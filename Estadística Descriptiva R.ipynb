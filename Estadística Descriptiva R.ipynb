{
 "cells": [
  {
   "cell_type": "code",
   "execution_count": 1,
   "metadata": {
    "scrolled": true
   },
   "outputs": [
    {
     "data": {
      "text/plain": [
       "datos\n",
       "H M \n",
       "3 5 "
      ]
     },
     "metadata": {},
     "output_type": "display_data"
    }
   ],
   "source": [
    "datos = factor(c(\"H\",\"M\",\"M\",\"M\",\"H\",\"H\",\"M\",\"M\"))\n",
    "table(datos)"
   ]
  },
  {
   "cell_type": "code",
   "execution_count": 2,
   "metadata": {},
   "outputs": [
    {
     "data": {
      "text/html": [
       "8"
      ],
      "text/latex": [
       "8"
      ],
      "text/markdown": [
       "8"
      ],
      "text/plain": [
       "[1] 8"
      ]
     },
     "metadata": {},
     "output_type": "display_data"
    }
   ],
   "source": [
    "sum(table(datos))"
   ]
  },
  {
   "cell_type": "code",
   "execution_count": 6,
   "metadata": {},
   "outputs": [
    {
     "data": {
      "text/plain": [
       "datos\n",
       "    H     M \n",
       "0.375 0.625 "
      ]
     },
     "metadata": {},
     "output_type": "display_data"
    }
   ],
   "source": [
    "prop.table(table(datos))"
   ]
  },
  {
   "cell_type": "markdown",
   "metadata": {},
   "source": [
    "# Frecuencias con datos cuantitativos discretos"
   ]
  },
  {
   "cell_type": "code",
   "execution_count": 18,
   "metadata": {},
   "outputs": [],
   "source": [
    "edad =c(11,14,15,56,42,29,29,25,25,23,29,40,30,32,32,33)"
   ]
  },
  {
   "cell_type": "code",
   "execution_count": null,
   "metadata": {},
   "outputs": [],
   "source": []
  },
  {
   "cell_type": "code",
   "execution_count": 1,
   "metadata": {},
   "outputs": [
    {
     "data": {
      "text/html": [
       "<ol class=list-inline>\n",
       "\t<li>1</li>\n",
       "\t<li>1</li>\n",
       "\t<li>5</li>\n",
       "\t<li>5</li>\n",
       "\t<li>5</li>\n",
       "\t<li>5</li>\n",
       "\t<li>1</li>\n",
       "\t<li>6</li>\n",
       "\t<li>5</li>\n",
       "\t<li>4</li>\n",
       "\t<li>1</li>\n",
       "\t<li>3</li>\n",
       "\t<li>1</li>\n",
       "\t<li>3</li>\n",
       "\t<li>2</li>\n",
       "\t<li>2</li>\n",
       "\t<li>1</li>\n",
       "\t<li>1</li>\n",
       "\t<li>1</li>\n",
       "\t<li>4</li>\n",
       "\t<li>2</li>\n",
       "\t<li>1</li>\n",
       "\t<li>6</li>\n",
       "\t<li>3</li>\n",
       "\t<li>1</li>\n",
       "</ol>\n"
      ],
      "text/latex": [
       "\\begin{enumerate*}\n",
       "\\item 1\n",
       "\\item 1\n",
       "\\item 5\n",
       "\\item 5\n",
       "\\item 5\n",
       "\\item 5\n",
       "\\item 1\n",
       "\\item 6\n",
       "\\item 5\n",
       "\\item 4\n",
       "\\item 1\n",
       "\\item 3\n",
       "\\item 1\n",
       "\\item 3\n",
       "\\item 2\n",
       "\\item 2\n",
       "\\item 1\n",
       "\\item 1\n",
       "\\item 1\n",
       "\\item 4\n",
       "\\item 2\n",
       "\\item 1\n",
       "\\item 6\n",
       "\\item 3\n",
       "\\item 1\n",
       "\\end{enumerate*}\n"
      ],
      "text/markdown": [
       "1. 1\n",
       "2. 1\n",
       "3. 5\n",
       "4. 5\n",
       "5. 5\n",
       "6. 5\n",
       "7. 1\n",
       "8. 6\n",
       "9. 5\n",
       "10. 4\n",
       "11. 1\n",
       "12. 3\n",
       "13. 1\n",
       "14. 3\n",
       "15. 2\n",
       "16. 2\n",
       "17. 1\n",
       "18. 1\n",
       "19. 1\n",
       "20. 4\n",
       "21. 2\n",
       "22. 1\n",
       "23. 6\n",
       "24. 3\n",
       "25. 1\n",
       "\n",
       "\n"
      ],
      "text/plain": [
       " [1] 1 1 5 5 5 5 1 6 5 4 1 3 1 3 2 2 1 1 1 4 2 1 6 3 1"
      ]
     },
     "metadata": {},
     "output_type": "display_data"
    }
   ],
   "source": [
    "set.seed(162017)\n",
    "dados = sample(1:6,25, replace = TRUE)\n",
    "\n",
    "dados"
   ]
  },
  {
   "cell_type": "code",
   "execution_count": 2,
   "metadata": {},
   "outputs": [],
   "source": [
    "set.seed(NULL)"
   ]
  },
  {
   "cell_type": "code",
   "execution_count": 3,
   "metadata": {},
   "outputs": [
    {
     "data": {
      "text/plain": [
       "dados\n",
       " 1  2  3  4  5  6 \n",
       "10  3  3  2  5  2 "
      ]
     },
     "metadata": {},
     "output_type": "display_data"
    }
   ],
   "source": [
    "table(dados) # Frecuencia absoluta"
   ]
  },
  {
   "cell_type": "code",
   "execution_count": 4,
   "metadata": {
    "scrolled": true
   },
   "outputs": [
    {
     "data": {
      "text/plain": [
       "dados\n",
       "   1    2    3    4    5    6 \n",
       "0.40 0.12 0.12 0.08 0.20 0.08 "
      ]
     },
     "metadata": {},
     "output_type": "display_data"
    }
   ],
   "source": [
    "round(prop.table(table(dados)), 2) #Frecuencia relativa"
   ]
  },
  {
   "cell_type": "code",
   "execution_count": 5,
   "metadata": {},
   "outputs": [
    {
     "data": {
      "text/html": [
       "<dl class=dl-horizontal>\n",
       "\t<dt>1</dt>\n",
       "\t\t<dd>10</dd>\n",
       "\t<dt>2</dt>\n",
       "\t\t<dd>13</dd>\n",
       "\t<dt>3</dt>\n",
       "\t\t<dd>16</dd>\n",
       "\t<dt>4</dt>\n",
       "\t\t<dd>18</dd>\n",
       "\t<dt>5</dt>\n",
       "\t\t<dd>23</dd>\n",
       "\t<dt>6</dt>\n",
       "\t\t<dd>25</dd>\n",
       "</dl>\n"
      ],
      "text/latex": [
       "\\begin{description*}\n",
       "\\item[1] 10\n",
       "\\item[2] 13\n",
       "\\item[3] 16\n",
       "\\item[4] 18\n",
       "\\item[5] 23\n",
       "\\item[6] 25\n",
       "\\end{description*}\n"
      ],
      "text/markdown": [
       "1\n",
       ":   102\n",
       ":   133\n",
       ":   164\n",
       ":   185\n",
       ":   236\n",
       ":   25\n",
       "\n"
      ],
      "text/plain": [
       " 1  2  3  4  5  6 \n",
       "10 13 16 18 23 25 "
      ]
     },
     "metadata": {},
     "output_type": "display_data"
    }
   ],
   "source": [
    "cumsum(table(dados)) #Frecuencia acumulada"
   ]
  },
  {
   "cell_type": "code",
   "execution_count": 7,
   "metadata": {
    "scrolled": true
   },
   "outputs": [
    {
     "data": {
      "text/html": [
       "<dl class=dl-horizontal>\n",
       "\t<dt>1</dt>\n",
       "\t\t<dd>0.4</dd>\n",
       "\t<dt>2</dt>\n",
       "\t\t<dd>0.52</dd>\n",
       "\t<dt>3</dt>\n",
       "\t\t<dd>0.64</dd>\n",
       "\t<dt>4</dt>\n",
       "\t\t<dd>0.72</dd>\n",
       "\t<dt>5</dt>\n",
       "\t\t<dd>0.92</dd>\n",
       "\t<dt>6</dt>\n",
       "\t\t<dd>1</dd>\n",
       "</dl>\n"
      ],
      "text/latex": [
       "\\begin{description*}\n",
       "\\item[1] 0.4\n",
       "\\item[2] 0.52\n",
       "\\item[3] 0.64\n",
       "\\item[4] 0.72\n",
       "\\item[5] 0.92\n",
       "\\item[6] 1\n",
       "\\end{description*}\n"
      ],
      "text/markdown": [
       "1\n",
       ":   0.42\n",
       ":   0.523\n",
       ":   0.644\n",
       ":   0.725\n",
       ":   0.926\n",
       ":   1\n",
       "\n"
      ],
      "text/plain": [
       "   1    2    3    4    5    6 \n",
       "0.40 0.52 0.64 0.72 0.92 1.00 "
      ]
     },
     "metadata": {},
     "output_type": "display_data"
    }
   ],
   "source": [
    "round(cumsum(prop.table(table(dados))), 2) #Frecuencia relativa acumulada"
   ]
  },
  {
   "cell_type": "markdown",
   "metadata": {},
   "source": [
    "# Crear un dataframe con la tabla de frecuencias"
   ]
  },
  {
   "cell_type": "code",
   "execution_count": 13,
   "metadata": {},
   "outputs": [],
   "source": [
    "dados.df = data.frame(Puntuacion = 1:6,\n",
    "                      Fr.abs = as.vector(table(dados)),\n",
    "                      Fr.rel = as.vector(round(prop.table(table(dados)),2)),\n",
    "                      Fr.acu = as.vector(cumsum(table(dados))),\n",
    "                      Fr.racu = as.vector(round(cumsum(prop.table(table(dados))),2)))      "
   ]
  },
  {
   "cell_type": "code",
   "execution_count": 14,
   "metadata": {},
   "outputs": [
    {
     "data": {
      "text/html": [
       "<table>\n",
       "<caption>A data.frame: 6 × 5</caption>\n",
       "<thead>\n",
       "\t<tr><th scope=col>Puntuacion</th><th scope=col>Fr.abs</th><th scope=col>Fr.rel</th><th scope=col>Fr.acu</th><th scope=col>Fr.racu</th></tr>\n",
       "\t<tr><th scope=col>&lt;int&gt;</th><th scope=col>&lt;int&gt;</th><th scope=col>&lt;dbl&gt;</th><th scope=col>&lt;int&gt;</th><th scope=col>&lt;dbl&gt;</th></tr>\n",
       "</thead>\n",
       "<tbody>\n",
       "\t<tr><td>1</td><td>10</td><td>0.40</td><td>10</td><td>0.40</td></tr>\n",
       "\t<tr><td>2</td><td> 3</td><td>0.12</td><td>13</td><td>0.52</td></tr>\n",
       "\t<tr><td>3</td><td> 3</td><td>0.12</td><td>16</td><td>0.64</td></tr>\n",
       "\t<tr><td>4</td><td> 2</td><td>0.08</td><td>18</td><td>0.72</td></tr>\n",
       "\t<tr><td>5</td><td> 5</td><td>0.20</td><td>23</td><td>0.92</td></tr>\n",
       "\t<tr><td>6</td><td> 2</td><td>0.08</td><td>25</td><td>1.00</td></tr>\n",
       "</tbody>\n",
       "</table>\n"
      ],
      "text/latex": [
       "A data.frame: 6 × 5\n",
       "\\begin{tabular}{r|lllll}\n",
       " Puntuacion & Fr.abs & Fr.rel & Fr.acu & Fr.racu\\\\\n",
       " <int> & <int> & <dbl> & <int> & <dbl>\\\\\n",
       "\\hline\n",
       "\t 1 & 10 & 0.40 & 10 & 0.40\\\\\n",
       "\t 2 &  3 & 0.12 & 13 & 0.52\\\\\n",
       "\t 3 &  3 & 0.12 & 16 & 0.64\\\\\n",
       "\t 4 &  2 & 0.08 & 18 & 0.72\\\\\n",
       "\t 5 &  5 & 0.20 & 23 & 0.92\\\\\n",
       "\t 6 &  2 & 0.08 & 25 & 1.00\\\\\n",
       "\\end{tabular}\n"
      ],
      "text/markdown": [
       "\n",
       "A data.frame: 6 × 5\n",
       "\n",
       "| Puntuacion &lt;int&gt; | Fr.abs &lt;int&gt; | Fr.rel &lt;dbl&gt; | Fr.acu &lt;int&gt; | Fr.racu &lt;dbl&gt; |\n",
       "|---|---|---|---|---|\n",
       "| 1 | 10 | 0.40 | 10 | 0.40 |\n",
       "| 2 |  3 | 0.12 | 13 | 0.52 |\n",
       "| 3 |  3 | 0.12 | 16 | 0.64 |\n",
       "| 4 |  2 | 0.08 | 18 | 0.72 |\n",
       "| 5 |  5 | 0.20 | 23 | 0.92 |\n",
       "| 6 |  2 | 0.08 | 25 | 1.00 |\n",
       "\n"
      ],
      "text/plain": [
       "  Puntuacion Fr.abs Fr.rel Fr.acu Fr.racu\n",
       "1 1          10     0.40   10     0.40   \n",
       "2 2           3     0.12   13     0.52   \n",
       "3 3           3     0.12   16     0.64   \n",
       "4 4           2     0.08   18     0.72   \n",
       "5 5           5     0.20   23     0.92   \n",
       "6 6           2     0.08   25     1.00   "
      ]
     },
     "metadata": {},
     "output_type": "display_data"
    }
   ],
   "source": [
    "dados.df"
   ]
  },
  {
   "cell_type": "markdown",
   "metadata": {},
   "source": [
    "# Medidas de tendencia central"
   ]
  },
  {
   "cell_type": "code",
   "execution_count": 16,
   "metadata": {
    "scrolled": true
   },
   "outputs": [
    {
     "data": {
      "text/html": [
       "<ol class=list-inline>\n",
       "\t<li>11</li>\n",
       "\t<li>14</li>\n",
       "\t<li>15</li>\n",
       "\t<li>23</li>\n",
       "\t<li>25</li>\n",
       "\t<li>25</li>\n",
       "\t<li>29</li>\n",
       "\t<li>29</li>\n",
       "\t<li>30</li>\n",
       "\t<li>32</li>\n",
       "\t<li>32</li>\n",
       "\t<li>33</li>\n",
       "\t<li>40</li>\n",
       "\t<li>42</li>\n",
       "\t<li>56</li>\n",
       "</ol>\n"
      ],
      "text/latex": [
       "\\begin{enumerate*}\n",
       "\\item 11\n",
       "\\item 14\n",
       "\\item 15\n",
       "\\item 23\n",
       "\\item 25\n",
       "\\item 25\n",
       "\\item 29\n",
       "\\item 29\n",
       "\\item 30\n",
       "\\item 32\n",
       "\\item 32\n",
       "\\item 33\n",
       "\\item 40\n",
       "\\item 42\n",
       "\\item 56\n",
       "\\end{enumerate*}\n"
      ],
      "text/markdown": [
       "1. 11\n",
       "2. 14\n",
       "3. 15\n",
       "4. 23\n",
       "5. 25\n",
       "6. 25\n",
       "7. 29\n",
       "8. 29\n",
       "9. 30\n",
       "10. 32\n",
       "11. 32\n",
       "12. 33\n",
       "13. 40\n",
       "14. 42\n",
       "15. 56\n",
       "\n",
       "\n"
      ],
      "text/plain": [
       " [1] 11 14 15 23 25 25 29 29 30 32 32 33 40 42 56"
      ]
     },
     "metadata": {},
     "output_type": "display_data"
    }
   ],
   "source": [
    "sort(edad)"
   ]
  },
  {
   "cell_type": "code",
   "execution_count": 19,
   "metadata": {
    "scrolled": true
   },
   "outputs": [
    {
     "data": {
      "text/plain": [
       "edad\n",
       "11 14 15 23 25 29 30 32 33 40 42 56 \n",
       " 1  1  1  1  2  3  1  2  1  1  1  1 "
      ]
     },
     "metadata": {},
     "output_type": "display_data"
    }
   ],
   "source": [
    "table(edad)"
   ]
  },
  {
   "cell_type": "code",
   "execution_count": 20,
   "metadata": {},
   "outputs": [
    {
     "data": {
      "text/html": [
       "29.0625"
      ],
      "text/latex": [
       "29.0625"
      ],
      "text/markdown": [
       "29.0625"
      ],
      "text/plain": [
       "[1] 29.0625"
      ]
     },
     "metadata": {},
     "output_type": "display_data"
    }
   ],
   "source": [
    "mean(edad)"
   ]
  },
  {
   "cell_type": "code",
   "execution_count": 21,
   "metadata": {},
   "outputs": [
    {
     "data": {
      "text/html": [
       "2.8"
      ],
      "text/latex": [
       "2.8"
      ],
      "text/markdown": [
       "2.8"
      ],
      "text/plain": [
       "[1] 2.8"
      ]
     },
     "metadata": {},
     "output_type": "display_data"
    }
   ],
   "source": [
    "mean(dados)"
   ]
  },
  {
   "cell_type": "code",
   "execution_count": 22,
   "metadata": {},
   "outputs": [
    {
     "data": {
      "text/html": [
       "29"
      ],
      "text/latex": [
       "29"
      ],
      "text/markdown": [
       "29"
      ],
      "text/plain": [
       "[1] 29"
      ]
     },
     "metadata": {},
     "output_type": "display_data"
    }
   ],
   "source": [
    "median(edad)"
   ]
  },
  {
   "cell_type": "code",
   "execution_count": 24,
   "metadata": {
    "scrolled": true
   },
   "outputs": [
    {
     "data": {
      "text/html": [
       "29"
      ],
      "text/latex": [
       "29"
      ],
      "text/markdown": [
       "29"
      ],
      "text/plain": [
       "[1] 29"
      ]
     },
     "metadata": {},
     "output_type": "display_data"
    }
   ],
   "source": [
    "as.numeric(names(which(table(edad)==max(table(edad))))) #la moda "
   ]
  },
  {
   "cell_type": "markdown",
   "metadata": {},
   "source": [
    "# Medias"
   ]
  },
  {
   "cell_type": "code",
   "execution_count": 26,
   "metadata": {},
   "outputs": [],
   "source": [
    "x = c(32,45,67,43,28,17,48,95)\n",
    "n = length(x)"
   ]
  },
  {
   "cell_type": "markdown",
   "metadata": {},
   "source": [
    "## Media aritmética"
   ]
  },
  {
   "cell_type": "markdown",
   "metadata": {},
   "source": [
    "$$\\bar{x} = \\frac{1}{n}\\sum_{i=1}^n x_i$$"
   ]
  },
  {
   "cell_type": "code",
   "execution_count": 29,
   "metadata": {},
   "outputs": [
    {
     "data": {
      "text/html": [
       "46.875"
      ],
      "text/latex": [
       "46.875"
      ],
      "text/markdown": [
       "46.875"
      ],
      "text/plain": [
       "[1] 46.875"
      ]
     },
     "metadata": {},
     "output_type": "display_data"
    }
   ],
   "source": [
    "sum(x)/n"
   ]
  },
  {
   "cell_type": "markdown",
   "metadata": {},
   "source": [
    "## Media ponderada"
   ]
  },
  {
   "cell_type": "markdown",
   "metadata": {},
   "source": [
    "$$\\bar{x}_w=\\frac{\\sum_{i=1}^nw_i\\cdot x_i}{\\sum_{i=1}^n w_i}$$"
   ]
  },
  {
   "cell_type": "code",
   "execution_count": 31,
   "metadata": {},
   "outputs": [
    {
     "data": {
      "text/html": [
       "43.375"
      ],
      "text/latex": [
       "43.375"
      ],
      "text/markdown": [
       "43.375"
      ],
      "text/plain": [
       "[1] 43.375"
      ]
     },
     "metadata": {},
     "output_type": "display_data"
    }
   ],
   "source": [
    "w = c(1,2,2,3,3,2,2,1)\n",
    "sum(w*x)/sum(w)"
   ]
  },
  {
   "cell_type": "markdown",
   "metadata": {},
   "source": [
    "## Media geométrica "
   ]
  },
  {
   "cell_type": "markdown",
   "metadata": {},
   "source": [
    "$$\\bar{x}_g = \\left(\\prod_{i=1}^n x_i\\right)^{1/n}$$"
   ]
  },
  {
   "cell_type": "code",
   "execution_count": 33,
   "metadata": {},
   "outputs": [
    {
     "data": {
      "text/html": [
       "41.6207300038803"
      ],
      "text/latex": [
       "41.6207300038803"
      ],
      "text/markdown": [
       "41.6207300038803"
      ],
      "text/plain": [
       "[1] 41.62073"
      ]
     },
     "metadata": {},
     "output_type": "display_data"
    }
   ],
   "source": [
    "prod(x)^(1/n)"
   ]
  },
  {
   "cell_type": "markdown",
   "metadata": {},
   "source": [
    "## Media armónica"
   ]
  },
  {
   "cell_type": "markdown",
   "metadata": {},
   "source": [
    "$$\\bar{x}_A = \\frac{n}{\\sum_{i=1}^{n}\\frac{1}{x_i}}$$"
   ]
  },
  {
   "cell_type": "code",
   "execution_count": 37,
   "metadata": {
    "scrolled": true
   },
   "outputs": [
    {
     "data": {
      "text/html": [
       "36.7730079366204"
      ],
      "text/latex": [
       "36.7730079366204"
      ],
      "text/markdown": [
       "36.7730079366204"
      ],
      "text/plain": [
       "[1] 36.77301"
      ]
     },
     "metadata": {},
     "output_type": "display_data"
    }
   ],
   "source": [
    "n/sum(1/x)"
   ]
  },
  {
   "cell_type": "markdown",
   "metadata": {},
   "source": [
    "# Cuantiles"
   ]
  },
  {
   "cell_type": "code",
   "execution_count": 41,
   "metadata": {},
   "outputs": [
    {
     "data": {
      "text/html": [
       "50"
      ],
      "text/latex": [
       "50"
      ],
      "text/markdown": [
       "50"
      ],
      "text/plain": [
       "[1] 50"
      ]
     },
     "metadata": {},
     "output_type": "display_data"
    }
   ],
   "source": [
    "set.seed(260798)\n",
    "dado = sample(1:4, 50, replace = TRUE)\n",
    "set.seed(NULL)\n",
    "length(dado)"
   ]
  },
  {
   "cell_type": "code",
   "execution_count": 43,
   "metadata": {},
   "outputs": [
    {
     "data": {
      "text/html": [
       "<ol class=list-inline>\n",
       "\t<li>1</li>\n",
       "\t<li>1</li>\n",
       "\t<li>1</li>\n",
       "\t<li>1</li>\n",
       "\t<li>1</li>\n",
       "\t<li>1</li>\n",
       "\t<li>1</li>\n",
       "\t<li>1</li>\n",
       "\t<li>1</li>\n",
       "\t<li>1</li>\n",
       "\t<li>1</li>\n",
       "\t<li>1</li>\n",
       "\t<li>1</li>\n",
       "\t<li>1</li>\n",
       "\t<li>1</li>\n",
       "\t<li>1</li>\n",
       "\t<li>2</li>\n",
       "\t<li>2</li>\n",
       "\t<li>2</li>\n",
       "\t<li>2</li>\n",
       "\t<li>2</li>\n",
       "\t<li>2</li>\n",
       "\t<li>2</li>\n",
       "\t<li>2</li>\n",
       "\t<li>2</li>\n",
       "\t<li>2</li>\n",
       "\t<li>2</li>\n",
       "\t<li>2</li>\n",
       "\t<li>2</li>\n",
       "\t<li>2</li>\n",
       "\t<li>2</li>\n",
       "\t<li>3</li>\n",
       "\t<li>3</li>\n",
       "\t<li>3</li>\n",
       "\t<li>3</li>\n",
       "\t<li>3</li>\n",
       "\t<li>4</li>\n",
       "\t<li>4</li>\n",
       "\t<li>4</li>\n",
       "\t<li>4</li>\n",
       "\t<li>4</li>\n",
       "\t<li>4</li>\n",
       "\t<li>4</li>\n",
       "\t<li>4</li>\n",
       "\t<li>4</li>\n",
       "\t<li>4</li>\n",
       "\t<li>4</li>\n",
       "\t<li>4</li>\n",
       "\t<li>4</li>\n",
       "\t<li>4</li>\n",
       "</ol>\n"
      ],
      "text/latex": [
       "\\begin{enumerate*}\n",
       "\\item 1\n",
       "\\item 1\n",
       "\\item 1\n",
       "\\item 1\n",
       "\\item 1\n",
       "\\item 1\n",
       "\\item 1\n",
       "\\item 1\n",
       "\\item 1\n",
       "\\item 1\n",
       "\\item 1\n",
       "\\item 1\n",
       "\\item 1\n",
       "\\item 1\n",
       "\\item 1\n",
       "\\item 1\n",
       "\\item 2\n",
       "\\item 2\n",
       "\\item 2\n",
       "\\item 2\n",
       "\\item 2\n",
       "\\item 2\n",
       "\\item 2\n",
       "\\item 2\n",
       "\\item 2\n",
       "\\item 2\n",
       "\\item 2\n",
       "\\item 2\n",
       "\\item 2\n",
       "\\item 2\n",
       "\\item 2\n",
       "\\item 3\n",
       "\\item 3\n",
       "\\item 3\n",
       "\\item 3\n",
       "\\item 3\n",
       "\\item 4\n",
       "\\item 4\n",
       "\\item 4\n",
       "\\item 4\n",
       "\\item 4\n",
       "\\item 4\n",
       "\\item 4\n",
       "\\item 4\n",
       "\\item 4\n",
       "\\item 4\n",
       "\\item 4\n",
       "\\item 4\n",
       "\\item 4\n",
       "\\item 4\n",
       "\\end{enumerate*}\n"
      ],
      "text/markdown": [
       "1. 1\n",
       "2. 1\n",
       "3. 1\n",
       "4. 1\n",
       "5. 1\n",
       "6. 1\n",
       "7. 1\n",
       "8. 1\n",
       "9. 1\n",
       "10. 1\n",
       "11. 1\n",
       "12. 1\n",
       "13. 1\n",
       "14. 1\n",
       "15. 1\n",
       "16. 1\n",
       "17. 2\n",
       "18. 2\n",
       "19. 2\n",
       "20. 2\n",
       "21. 2\n",
       "22. 2\n",
       "23. 2\n",
       "24. 2\n",
       "25. 2\n",
       "26. 2\n",
       "27. 2\n",
       "28. 2\n",
       "29. 2\n",
       "30. 2\n",
       "31. 2\n",
       "32. 3\n",
       "33. 3\n",
       "34. 3\n",
       "35. 3\n",
       "36. 3\n",
       "37. 4\n",
       "38. 4\n",
       "39. 4\n",
       "40. 4\n",
       "41. 4\n",
       "42. 4\n",
       "43. 4\n",
       "44. 4\n",
       "45. 4\n",
       "46. 4\n",
       "47. 4\n",
       "48. 4\n",
       "49. 4\n",
       "50. 4\n",
       "\n",
       "\n"
      ],
      "text/plain": [
       " [1] 1 1 1 1 1 1 1 1 1 1 1 1 1 1 1 1 2 2 2 2 2 2 2 2 2 2 2 2 2 2 2 3 3 3 3 3 4 4\n",
       "[39] 4 4 4 4 4 4 4 4 4 4 4 4"
      ]
     },
     "metadata": {},
     "output_type": "display_data"
    }
   ],
   "source": [
    "dado = sort(dado)\n",
    "dado"
   ]
  },
  {
   "cell_type": "code",
   "execution_count": 45,
   "metadata": {
    "scrolled": true
   },
   "outputs": [
    {
     "data": {
      "text/html": [
       "<table>\n",
       "<caption>A data.frame: 4 × 5</caption>\n",
       "<thead>\n",
       "\t<tr><th scope=col>Puntuacion</th><th scope=col>Fr.abs</th><th scope=col>Fr.rel</th><th scope=col>Fr.acu</th><th scope=col>Fr.racu</th></tr>\n",
       "\t<tr><th scope=col>&lt;int&gt;</th><th scope=col>&lt;int&gt;</th><th scope=col>&lt;dbl&gt;</th><th scope=col>&lt;int&gt;</th><th scope=col>&lt;dbl&gt;</th></tr>\n",
       "</thead>\n",
       "<tbody>\n",
       "\t<tr><td>1</td><td>16</td><td>0.32</td><td>16</td><td>0.32</td></tr>\n",
       "\t<tr><td>2</td><td>15</td><td>0.30</td><td>31</td><td>0.62</td></tr>\n",
       "\t<tr><td>3</td><td> 5</td><td>0.10</td><td>36</td><td>0.72</td></tr>\n",
       "\t<tr><td>4</td><td>14</td><td>0.28</td><td>50</td><td>1.00</td></tr>\n",
       "</tbody>\n",
       "</table>\n"
      ],
      "text/latex": [
       "A data.frame: 4 × 5\n",
       "\\begin{tabular}{r|lllll}\n",
       " Puntuacion & Fr.abs & Fr.rel & Fr.acu & Fr.racu\\\\\n",
       " <int> & <int> & <dbl> & <int> & <dbl>\\\\\n",
       "\\hline\n",
       "\t 1 & 16 & 0.32 & 16 & 0.32\\\\\n",
       "\t 2 & 15 & 0.30 & 31 & 0.62\\\\\n",
       "\t 3 &  5 & 0.10 & 36 & 0.72\\\\\n",
       "\t 4 & 14 & 0.28 & 50 & 1.00\\\\\n",
       "\\end{tabular}\n"
      ],
      "text/markdown": [
       "\n",
       "A data.frame: 4 × 5\n",
       "\n",
       "| Puntuacion &lt;int&gt; | Fr.abs &lt;int&gt; | Fr.rel &lt;dbl&gt; | Fr.acu &lt;int&gt; | Fr.racu &lt;dbl&gt; |\n",
       "|---|---|---|---|---|\n",
       "| 1 | 16 | 0.32 | 16 | 0.32 |\n",
       "| 2 | 15 | 0.30 | 31 | 0.62 |\n",
       "| 3 |  5 | 0.10 | 36 | 0.72 |\n",
       "| 4 | 14 | 0.28 | 50 | 1.00 |\n",
       "\n"
      ],
      "text/plain": [
       "  Puntuacion Fr.abs Fr.rel Fr.acu Fr.racu\n",
       "1 1          16     0.32   16     0.32   \n",
       "2 2          15     0.30   31     0.62   \n",
       "3 3           5     0.10   36     0.72   \n",
       "4 4          14     0.28   50     1.00   "
      ]
     },
     "metadata": {},
     "output_type": "display_data"
    }
   ],
   "source": [
    "df.dado = data.frame(Puntuacion = 1:4,\n",
    "                      Fr.abs = as.vector(table(dado)),\n",
    "                      Fr.rel = as.vector(round(prop.table(table(dado)),2)),\n",
    "                      Fr.acu = as.vector(cumsum(table(dado))),\n",
    "                      Fr.racu = as.vector(round(cumsum(prop.table(table(dado))),2)))\n",
    "df.dado"
   ]
  },
  {
   "cell_type": "code",
   "execution_count": 46,
   "metadata": {},
   "outputs": [
    {
     "data": {
      "text/html": [
       "<strong>25%:</strong> 1"
      ],
      "text/latex": [
       "\\textbf{25\\textbackslash{}\\%:} 1"
      ],
      "text/markdown": [
       "**25%:** 1"
      ],
      "text/plain": [
       "25% \n",
       "  1 "
      ]
     },
     "metadata": {},
     "output_type": "display_data"
    }
   ],
   "source": [
    "quantile(dados,0.25)"
   ]
  },
  {
   "cell_type": "code",
   "execution_count": 47,
   "metadata": {},
   "outputs": [
    {
     "data": {
      "text/html": [
       "<strong>80%:</strong> 5"
      ],
      "text/latex": [
       "\\textbf{80\\textbackslash{}\\%:} 5"
      ],
      "text/markdown": [
       "**80%:** 5"
      ],
      "text/plain": [
       "80% \n",
       "  5 "
      ]
     },
     "metadata": {},
     "output_type": "display_data"
    }
   ],
   "source": [
    "quantile(dados,0.8)"
   ]
  }
 ],
 "metadata": {
  "kernelspec": {
   "display_name": "R",
   "language": "R",
   "name": "ir"
  },
  "language_info": {
   "codemirror_mode": "r",
   "file_extension": ".r",
   "mimetype": "text/x-r-source",
   "name": "R",
   "pygments_lexer": "r",
   "version": "3.6.1"
  }
 },
 "nbformat": 4,
 "nbformat_minor": 2
}
